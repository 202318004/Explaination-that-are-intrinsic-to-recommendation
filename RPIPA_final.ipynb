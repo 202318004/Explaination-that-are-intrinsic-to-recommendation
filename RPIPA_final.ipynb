{
  "cells": [
    {
      "cell_type": "code",
      "source": [
        "import pandas as pd\n",
        "\n",
        "# Load movies and movie genres data\n",
        "movies_df = pd.read_csv(\"/content/movies.dat\", sep=\"\\t\", encoding=\"latin1\")\n",
        "movie_genres_df = pd.read_csv(\"/content/movie_genres.dat\", sep=\"\\t\", encoding=\"latin1\")\n",
        "\n",
        "# Define similarity threshold and epsilon\n",
        "theta = 0.5  # Set your desired similarity threshold here\n",
        "epsilon = 0.3  # Set your desired epsilon here\n",
        "\n",
        "def similarity(genres1, genres2):\n",
        "    return len(set(genres1).intersection(genres2)) / len(set(genres1).union(genres2))\n",
        "\n",
        "def reward(movie_id, candidate_movie_id, candidate_features_covered , theta, epsilon):\n",
        "    candidate_features= set(get_movie_features(candidate_movie_id)) #set(movie_genres_df[movie_genres_df['movieID'] == candidate_movie_id]['genre'])\n",
        "    profile_movie_features= set(get_movie_features(movie_id))#set(movie_genres_df[movie_genres_df['movieID'] == movie_id]['genre'])\n",
        "    candidate_features_covered = candidate_features_covered\n",
        "\n",
        "    n=profile_movie_features.intersection(candidate_features)\n",
        "    num=n.difference(candidate_features_covered)\n",
        "    candidate_features_covered.update(num)\n",
        "\n",
        "    fi = len(candidate_features)\n",
        "    fp_minus_covered=len(num)\n",
        "    fp = len(profile_movie_features)\n",
        "\n",
        "    reward_value = (fp_minus_covered / fi) + (fp_minus_covered / fp)\n",
        "    return reward_value, candidate_features_covered\n",
        "\n",
        "def get_movie_title(movie_id):\n",
        "    return movies_df[movies_df['id'] == movie_id]['title'].iloc[0]\n",
        "\n",
        "def get_movie_features(movie_id):\n",
        "    return movie_genres_df[movie_genres_df['movieID'] == movie_id]['genre'].tolist()\n",
        "\n",
        "def generate_explanation_chain(candidate_movie_id, profile_movies, theta, epsilon):\n",
        "    explanation_chain = []\n",
        "    rwd_sum=0\n",
        "    candidate_features_covered=set()\n",
        "    for movie_id in profile_movies:\n",
        "        if (similarity(get_movie_features(candidate_movie_id),get_movie_features(movie_id)) > theta):\n",
        "          rwd, candidate_features_covered=reward(movie_id, candidate_movie_id, candidate_features_covered, theta, epsilon)\n",
        "          if (rwd > epsilon):\n",
        "            explanation_chain.append(movie_id)\n",
        "            rwd_sum+=rwd\n",
        "    return explanation_chain,rwd_sum\n",
        "\n",
        "def scoring(chain, rwd_sum,candidate_movie_id, selected_chains):\n",
        "    sum_rwds = rwd_sum\n",
        "    # diversity_penalty = sum(len(set(chain).difference(selected_chain[1])) for selected_chain in selected_chains)\n",
        "    # for i in range(len(selected_chains)):\n",
        "      # dp=set(chain).difference(selected_chains[i])\n",
        "    dp=set()\n",
        "    for i in chain:\n",
        "      for j in selected_chains:\n",
        "        if i not in j:\n",
        "          dp.add(i)\n",
        "    diversity_penalty=len(dp)\n",
        "    score = (sum_rwds / (len(chain) + 1)) + (diversity_penalty / (len(chain) + 1))\n",
        "    return score\n",
        "\n",
        "def select_chains(chains, n):\n",
        "    chains.sort(key=lambda x: x[2], reverse=True)\n",
        "    selected_chains = []\n",
        "    for chain in chains:\n",
        "        if len(selected_chains) < n:\n",
        "            selected_chains.append(chain)\n",
        "        else:\n",
        "            break\n",
        "    return selected_chains\n",
        "\n",
        "def recommend_movies(user_profile, n_recommendations, theta, epsilon):\n",
        "    candidate_movies = movies_df['id'].tolist()\n",
        "    recommended_movies = []\n",
        "    selected_chains = []  # Initialize an empty list to store selected chains\n",
        "    L=[]\n",
        "    for candidate_movie_id in candidate_movies:\n",
        "        if candidate_movie_id not in user_profile:  # Exclude movies already in user's profile\n",
        "            explanation_chain, rwd_sum = generate_explanation_chain(candidate_movie_id, user_profile, theta, epsilon)\n",
        "    #         i=[candidate_movie_id,explanation_chain, rwd_sum]\n",
        "    #         L.append(i)\n",
        "    # L.sort(key=lambda x: x[2], reverse=True)\n",
        "    # for candidate_movie_id in candidate_movies:\n",
        "    #     if candidate_movie_id not in user_profile:\n",
        "            if explanation_chain:\n",
        "                # score = scoring(explanation_chain, rwd_sum,candidate_movie_id, user_profile, selected_chains)\n",
        "                score=scoring(explanation_chain, rwd_sum, candidate_movie_id, selected_chains)\n",
        "                selected_chains.append(explanation_chain)\n",
        "                recommended_movies.append((candidate_movie_id, explanation_chain, score))\n",
        "\n",
        "    top_n_chains = select_chains(recommended_movies, n_recommendations)\n",
        "    return top_n_chains\n",
        "\n",
        "#n=input(\"Enter no. of recommendations wanted :- \")\n",
        "#loop=input(\"Enter no. of movies in profile\")\n",
        "#user_prof=[]\n",
        "#for in range(loop):\n",
        "#mn=input(\"Enter MOvie Name :- \")\n",
        "#user_prof.append(movies[movies['title'].lower==mn.lower].id)\n",
        "#recommendations = recommend_movies(user_profile, n_recommendations, theta, epsilon)\n",
        "\n",
        "# Example usage:\n",
        "user_profile = [1, 34, 98, 123, 500, 1213,45]\n",
        "n_recommendations = 10\n",
        "\n",
        "recommendations = recommend_movies(user_profile, n_recommendations, theta, epsilon)\n",
        "print(\"Recommendations:\")\n",
        "for movie_id, explanation_chain, score in recommendations:\n",
        "    movie_title = get_movie_title(movie_id)\n",
        "    explanation_chain_info = [(get_movie_title(movie_id), get_movie_features(movie_id)) for movie_id in explanation_chain]\n",
        "    print(f\"Movie ID: {movie_id}, Title: {movie_title}, Candidate Movie Genre: {get_movie_features(movie_id)} , Explanation Chain:\")\n",
        "    for idx, (predecessor_title, predecessor_features) in enumerate(explanation_chain_info):\n",
        "        print(f\"  Predecessor {idx + 1}: Title: {predecessor_title}, Features: {predecessor_features}\")\n",
        "    print(f\"Score: {score}\")"
      ],
      "metadata": {
        "colab": {
          "base_uri": "https://localhost:8080/"
        },
        "id": "6q6ZVRh2jPxg",
        "outputId": "46d4e508-725e-4745-9426-0e7d279f8170"
      },
      "execution_count": null,
      "outputs": [
        {
          "output_type": "stream",
          "name": "stdout",
          "text": [
            "Recommendations:\n",
            "Movie ID: 16, Title: Casino, Candidate Movie Genre: ['Crime', 'Drama'] , Explanation Chain:\n",
            "  Predecessor 1: Title: Goodfellas, Features: ['Crime', 'Drama']\n",
            "Score: 1.5\n",
            "Movie ID: 30, Title: Yao a yao yao dao waipo qiao, Candidate Movie Genre: ['Crime', 'Drama'] , Explanation Chain:\n",
            "  Predecessor 1: Title: Goodfellas, Features: ['Crime', 'Drama']\n",
            "Score: 1.5\n",
            "Movie ID: 36, Title: Dead Man Walking, Candidate Movie Genre: ['Crime', 'Drama'] , Explanation Chain:\n",
            "  Predecessor 1: Title: Goodfellas, Features: ['Crime', 'Drama']\n",
            "Score: 1.5\n",
            "Movie ID: 72, Title: Kicking & Screaming, Candidate Movie Genre: ['Comedy', 'Drama'] , Explanation Chain:\n",
            "  Predecessor 1: Title: Mrs. Doubtfire, Features: ['Comedy', 'Drama']\n",
            "Score: 1.5\n",
            "Movie ID: 75, Title: Big Bully, Candidate Movie Genre: ['Comedy', 'Drama'] , Explanation Chain:\n",
            "  Predecessor 1: Title: Mrs. Doubtfire, Features: ['Comedy', 'Drama']\n",
            "Score: 1.5\n",
            "Movie ID: 82, Title: Antonia, Candidate Movie Genre: ['Comedy', 'Drama'] , Explanation Chain:\n",
            "  Predecessor 1: Title: Mrs. Doubtfire, Features: ['Comedy', 'Drama']\n",
            "Score: 1.5\n",
            "Movie ID: 84, Title: Last Summer in the Hamptons, Candidate Movie Genre: ['Comedy', 'Drama'] , Explanation Chain:\n",
            "  Predecessor 1: Title: Mrs. Doubtfire, Features: ['Comedy', 'Drama']\n",
            "Score: 1.5\n",
            "Movie ID: 89, Title: Nick of Time, Candidate Movie Genre: ['Action', 'Thriller'] , Explanation Chain:\n",
            "  Predecessor 1: Title: Going Shopping, Features: ['Action', 'Thriller']\n",
            "Score: 1.5\n",
            "Movie ID: 96, Title: In the Bleak Midwinter, Candidate Movie Genre: ['Comedy', 'Drama'] , Explanation Chain:\n",
            "  Predecessor 1: Title: Mrs. Doubtfire, Features: ['Comedy', 'Drama']\n",
            "Score: 1.5\n",
            "Movie ID: 106, Title: Keiner liebt mich, Candidate Movie Genre: ['Comedy', 'Drama'] , Explanation Chain:\n",
            "  Predecessor 1: Title: Mrs. Doubtfire, Features: ['Comedy', 'Drama']\n",
            "Score: 1.5\n"
          ]
        }
      ]
    },
    {
      "cell_type": "code",
      "source": [
        "user_profile =  [1, 34, 98, 123, 500]\n",
        "for i in user_profile:\n",
        "  print(get_movie_title(i))\n",
        "  print(get_movie_features(i))"
      ],
      "metadata": {
        "colab": {
          "base_uri": "https://localhost:8080/"
        },
        "id": "0jn4xPLASnhA",
        "outputId": "8a5804f8-6272-4f8e-eaca-1d1957c5a422"
      },
      "execution_count": null,
      "outputs": [
        {
          "output_type": "stream",
          "name": "stdout",
          "text": [
            "Toy story\n",
            "['Adventure', 'Animation', 'Children', 'Comedy', 'Fantasy']\n",
            "Babe\n",
            "['Children', 'Comedy', 'Drama', 'Fantasy']\n",
            "Going Shopping\n",
            "['Action', 'Thriller']\n",
            "Chung Hing sam lam\n",
            "['Drama', 'Mystery', 'Romance']\n",
            "Mrs. Doubtfire\n",
            "['Comedy', 'Drama']\n"
          ]
        }
      ]
    },
    {
      "cell_type": "code",
      "source": [
        "import pandas as pd\n",
        "\n",
        "# Load movie data\n",
        "movies_df = pd.read_csv(\"/content/movies.dat\", sep=\"\\t\", encoding=\"latin1\")\n",
        "movie_genres_df = pd.read_csv(\"/content/movie_genres.dat\", sep=\"\\t\", encoding=\"latin1\")\n",
        "\n",
        "# Define similarity threshold\n",
        "theta = 0.3  # Set your desired similarity threshold here\n",
        "\n",
        "def similarity(genres1, genres2):\n",
        "    return len(set(genres1).intersection(genres2)) / len(set(genres1).union(genres2))\n",
        "\n",
        "def recommend_similar_movies(user_profile, theta):\n",
        "    recommended_movies = []\n",
        "    for movie_id in movies_df['id']:\n",
        "        if movie_id not in user_profile:  # Exclude movies already in user's profile\n",
        "            movie_genres = set(movie_genres_df[movie_genres_df['movieID'] == movie_id]['genre'])\n",
        "            profile_similarity = sum(similarity(movie_genres, set(movie_genres_df[movie_genres_df['movieID'] == profile_movie]['genre'])) for profile_movie in user_profile) / len(user_profile)\n",
        "            if profile_similarity > theta:\n",
        "                recommended_movies.append(movie_id)\n",
        "    return recommended_movies\n",
        "\n",
        "# Example usage:\n",
        "user_profile = [1, 34, 98, 123, 500]  # Example user profile with movie IDs\n",
        "recommended_movies = recommend_similar_movies(user_profile, theta)\n",
        "n=5\n",
        "count=0\n",
        "print(\"Recommended movies:\")\n",
        "m=[]\n",
        "for movie_id in recommended_movies:\n",
        "    if count==n:\n",
        "      break\n",
        "    movie_title = movies_df[movies_df['id'] == movie_id]['title'].iloc[0]\n",
        "    m.append(movie_id)\n",
        "    print(f\"Movie ID: {movie_id}, Title: {movie_title}\")\n",
        "    count+=1\n"
      ],
      "metadata": {
        "colab": {
          "base_uri": "https://localhost:8080/"
        },
        "id": "kbkh_M9mq9Hk",
        "outputId": "5758d46e-5839-4d3f-98af-f178b69dc970"
      },
      "execution_count": null,
      "outputs": [
        {
          "output_type": "stream",
          "name": "stdout",
          "text": [
            "Recommended movies:\n",
            "Movie ID: 4, Title: Waiting to Exhale\n",
            "Movie ID: 11, Title: The American President\n",
            "Movie ID: 17, Title: Sense and Sensibility\n",
            "Movie ID: 18, Title: Four Rooms\n",
            "Movie ID: 21, Title: Get Shorty\n"
          ]
        }
      ]
    },
    {
      "cell_type": "code",
      "source": [
        "# import pandas as pd\n",
        "# m_tags=pd.read_csv('/content/movie_tags.dat',sep=\"\\t\", encoding=\"latin1\")\n",
        "# tags=pd.read_csv('/content/tags.dat',sep=\"\\t\", encoding=\"latin1\")\n",
        "# merged_df = pd.merge(m_tags, tags, left_on='tagID', right_on='id')\n",
        "# merged_df.drop(columns=['tagID', 'id'], inplace=True)"
      ],
      "metadata": {
        "id": "C_GDjN0ZH1AP"
      },
      "execution_count": null,
      "outputs": []
    },
    {
      "cell_type": "code",
      "source": [
        "l=['Big Fish','Pearl Harbor','The Illusionist', 'The Notebook']\n",
        "x=[]\n",
        "y=[]\n",
        "for i in l:\n",
        "  x.append(movies_df[movies_df['title']==i].id.tolist())\n",
        "# print(x)\n",
        "for i in x:\n",
        "  j=i[0]\n",
        "  y.append(j)\n",
        "# print(y)\n",
        "for i in y:\n",
        "  print(get_movie_title(i))\n",
        "  print(get_movie_features(i))\n",
        "  print()"
      ],
      "metadata": {
        "colab": {
          "base_uri": "https://localhost:8080/"
        },
        "id": "nRY-rWZeSSdV",
        "outputId": "74839749-b755-4a6a-9607-ced9691313c1"
      },
      "execution_count": null,
      "outputs": [
        {
          "output_type": "stream",
          "name": "stdout",
          "text": [
            "Big Fish\n",
            "['Drama', 'Fantasy', 'Romance']\n",
            "\n",
            "Pearl Harbor\n",
            "['Action', 'Drama', 'Romance', 'War']\n",
            "\n",
            "The Illusionist\n",
            "['Drama', 'Fantasy', 'Mystery', 'Romance', 'Thriller']\n",
            "\n",
            "The Notebook\n",
            "['Drama', 'Romance', 'War']\n",
            "\n"
          ]
        }
      ]
    }
  ],
  "metadata": {
    "colab": {
      "provenance": []
    },
    "kernelspec": {
      "display_name": "Python 3",
      "name": "python3"
    },
    "language_info": {
      "name": "python"
    }
  },
  "nbformat": 4,
  "nbformat_minor": 0
}